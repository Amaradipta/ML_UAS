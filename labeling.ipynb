{
 "cells": [
  {
   "cell_type": "code",
   "execution_count": 61,
   "metadata": {},
   "outputs": [],
   "source": [
    "import pandas as pd\n",
    "import nltk\n",
    "import importlib\n",
    "importlib.reload(nltk)\n",
    "from textblob import TextBlob"
   ]
  },
  {
   "cell_type": "code",
   "execution_count": 62,
   "metadata": {},
   "outputs": [],
   "source": [
    "reviews_df = pd.read_csv('KAIPro.csv')"
   ]
  },
  {
   "cell_type": "code",
   "execution_count": 63,
   "metadata": {},
   "outputs": [],
   "source": [
    "def get_sentiment(text):\n",
    "    analysis = TextBlob(text)\n",
    "    return analysis.sentiment.polarity"
   ]
  },
  {
   "cell_type": "code",
   "execution_count": 64,
   "metadata": {},
   "outputs": [],
   "source": [
    "def get_sentiment_label(polarity):\n",
    "    if polarity < 0:\n",
    "        return 'negative'\n",
    "    elif polarity == 0:\n",
    "        return 'netral'\n",
    "    else:\n",
    "        return 'positive'"
   ]
  },
  {
   "cell_type": "code",
   "execution_count": 65,
   "metadata": {},
   "outputs": [],
   "source": [
    "reviews_df['sentiment'] = reviews_df['contents'].apply(get_sentiment)\n",
    "reviews_df['sentiment_label'] = reviews_df['sentiment'].apply(get_sentiment_label)"
   ]
  },
  {
   "cell_type": "code",
   "execution_count": 66,
   "metadata": {},
   "outputs": [],
   "source": [
    "negatif_reviews = reviews_df[reviews_df['sentiment_label'] == 'negative']\n",
    "netral_reviews = reviews_df[reviews_df['sentiment_label'] == 'netral']\n",
    "positif_reviews = reviews_df[reviews_df['sentiment_label'] == 'positive']"
   ]
  },
  {
   "cell_type": "code",
   "execution_count": 68,
   "metadata": {},
   "outputs": [],
   "source": [
    "filtered_reviews_df = pd.concat([negatif_reviews, netral_reviews, positif_reviews])"
   ]
  },
  {
   "cell_type": "code",
   "execution_count": 69,
   "metadata": {},
   "outputs": [],
   "source": [
    "filtered_reviews_df.to_csv('labeling.csv', index=None, header=True)"
   ]
  },
  {
   "cell_type": "code",
   "execution_count": 70,
   "metadata": {},
   "outputs": [
    {
     "name": "stdout",
     "output_type": "stream",
     "text": [
      "                                            contents  sentiment  \\\n",
      "0  ['single', 'trip', 'hilang', 'aplikasi', 'bom'...  -0.071429   \n",
      "1  ['susah', 'banget', 'dapetin', 'tiket', 'long'...  -0.050000   \n",
      "2  ['sedih', 'banget', 'kewcewa', 'udah', 'top', ...  -0.033333   \n",
      "3  ['tolong', 'baik', 'aplikasi', 'isi', 'kaspro'...  -0.100000   \n",
      "4  ['buka', 'kai', 'trs', 'tibatiba', 'pas', 'log...  -0.500000   \n",
      "\n",
      "  sentiment_label  \n",
      "0        negative  \n",
      "1        negative  \n",
      "2        negative  \n",
      "3        negative  \n",
      "4        negative  \n",
      "Jumlah data: 4000\n",
      "sentiment_label\n",
      "netral      1447\n",
      "positive    1334\n",
      "negative    1219\n",
      "Name: count, dtype: int64\n"
     ]
    }
   ],
   "source": [
    "print(filtered_reviews_df.head())\n",
    "print(f\"Jumlah data: {filtered_reviews_df.shape[0]}\")\n",
    "print(filtered_reviews_df['sentiment_label'].value_counts())"
   ]
  }
 ],
 "metadata": {
  "kernelspec": {
   "display_name": "Python 3",
   "language": "python",
   "name": "python3"
  },
  "language_info": {
   "codemirror_mode": {
    "name": "ipython",
    "version": 3
   },
   "file_extension": ".py",
   "mimetype": "text/x-python",
   "name": "python",
   "nbconvert_exporter": "python",
   "pygments_lexer": "ipython3",
   "version": "3.10.11"
  }
 },
 "nbformat": 4,
 "nbformat_minor": 2
}
